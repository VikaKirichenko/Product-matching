{
  "cells": [
    {
      "cell_type": "code",
      "execution_count": null,
      "metadata": {
        "id": "BNnm8pYIT_Zw"
      },
      "outputs": [],
      "source": [
        "!wget http://data.dws.informatik.uni-mannheim.de/largescaleproductcorpus/data/v2/repo-download/repo-data.zip"
      ]
    },
    {
      "cell_type": "code",
      "execution_count": null,
      "metadata": {
        "id": "JpEG6MJSUBuY"
      },
      "outputs": [],
      "source": [
        "!unzip \"/content/repo-data.zip\" -d \"/content/repo-data/\""
      ]
    },
    {
      "cell_type": "code",
      "execution_count": null,
      "metadata": {
        "id": "9HBhzpz7WfEF"
      },
      "outputs": [],
      "source": [
        "!unzip \"/content/repo-data/data/raw/wdc-lspc/corpus/offers_corpus_english_v2_non_norm.json.gz\" -d \"/content/raw-data/\""
      ]
    },
    {
      "cell_type": "code",
      "execution_count": null,
      "metadata": {
        "colab": {
          "base_uri": "https://localhost:8080/"
        },
        "id": "eIoK_tL5W70P",
        "outputId": "48052fa4-2925-480d-b030-4bfddada32dd"
      },
      "outputs": [
        {
          "name": "stdout",
          "output_type": "stream",
          "text": [
            "b'{\"id\":11920489,\"cluster_id\":2533918,\"category\":\"Musical_Instruments\",\"identifiers\":[{\"/productID\":\"[ritrgp5dbsg]\"}],\"title\":\" \\\\\"Ritter RGP5-D/BSG Performance 5 Series Bag: Dreadnought, Black - Silver Grey \\\\\"@en | Absolute Music\\\\\"@en Dreadnought\",\"description\":\"\\\\\"\\\\nThe Ritter RGP5-D padded gigbag offers stylish protection for most Dreadnought sized acoustic guitars. \\\\\"@en \",\"brand\":null,\"price\":null,\"keyValuePairs\":null,\"specTableContent\":null}\\n'\n"
          ]
        }
      ],
      "source": [
        "import gzip\n",
        "f=gzip.open('/content/repo-data/data/raw/wdc-lspc/corpus/offers_corpus_english_v2_non_norm.json.gz','rb')\n",
        "file_content=f.readline()\n",
        "print(file_content)"
      ]
    },
    {
      "cell_type": "code",
      "execution_count": 45,
      "metadata": {
        "id": "DeqPHb_cu4pz"
      },
      "outputs": [],
      "source": [
        "import pandas as pd\n",
        "\n",
        "df_wb = pd.read_csv(\"/content/drive/MyDrive/diploma/data/wb_dataset_0_8270.csv\")\n",
        "df_wb = df_wb.dropna(subset=['price','specifications'])\n",
        "df_wb['description'] = df_wb['description'].fillna(\"\")\n",
        "df_wb = df_wb.drop_duplicates()\n",
        "# df_wb.head(10)\n",
        "\n",
        "df_dns = pd.read_csv(\"/content/drive/MyDrive/diploma/data/dns_dataset_0_1281.csv\")\n",
        "df_dns = df_dns.dropna(subset=['price'])\n",
        "df_dns = df_dns.drop_duplicates()\n",
        "# df_dns.head()\n"
      ]
    },
    {
      "cell_type": "code",
      "execution_count": null,
      "metadata": {
        "id": "11KMBuRmAIlr"
      },
      "outputs": [],
      "source": [
        "# df_all =pd.concat([df_wb,df_dns])\n",
        "# df_all['id'] = range(len(df_all))\n",
        "# df_all.to_csv('/content/drive/MyDrive/diploma/data/all_wb_dns_smartphones.csv')\n",
        "# df_all = df_all.drop(columns = ['brand'])\n",
        "df_dns['title'] = df_dns['title'].apply(lambda x: x.split('\"')[1])\n",
        "df_all =pd.concat([df_wb,df_dns])\n",
        "df_all['id'] = range(len(df_all))\n",
        "df_all.head(20)"
      ]
    },
    {
      "cell_type": "code",
      "source": [
        "df_all.shape"
      ],
      "metadata": {
        "colab": {
          "base_uri": "https://localhost:8080/"
        },
        "id": "UFwlH7k7JZal",
        "outputId": "e2061090-9db7-4550-dbf2-dd0089bc03fb"
      },
      "execution_count": 47,
      "outputs": [
        {
          "output_type": "execute_result",
          "data": {
            "text/plain": [
              "(7662, 10)"
            ]
          },
          "metadata": {},
          "execution_count": 47
        }
      ]
    },
    {
      "cell_type": "markdown",
      "metadata": {
        "id": "VE_RtliEKHWy"
      },
      "source": [
        "### чтото с чем то"
      ]
    },
    {
      "cell_type": "code",
      "execution_count": null,
      "metadata": {
        "id": "5uK4sld0xhBb"
      },
      "outputs": [],
      "source": [
        "# можно было циклом пройтись по брендам и если этот бренд есть в названии и бренд None, то написать этот бренд в столбец бренд\n",
        "df.loc[(df['name'].str.lower().str.contains(\"iphone\"))& (df['brand'].isna()), ['brand']] = \"Apple\"\n",
        "# df.loc[(df['name'].str.contains(\"Iphone\"))& (df['brand'].isna()), ['brand']] = \"Apple\"\n",
        "# df.loc[(df['name'].str.contains(\"iphone\"))& (df['brand'].isna()), ['brand']] = \"Apple\"\n",
        "# df.loc[(df['name'].str.contains(\"IPhone\"))& (df['brand'].isna()), ['brand']] = \"Apple\"\n",
        "df.loc[(df['name'].str.lower().str.contains(\"redmi\"))& (df['brand'].isna()), ['brand']] = \"Xiaomi\"\n",
        "df.loc[(df['name'].str.lower().str.contains(\"xiaomi\"))& (df['brand'].isna()), ['brand']] = \"Xiaomi\"\n",
        "df.loc[(df['name'].str.lower().str.contains(\"galaxy\"))& (df['brand'].isna()), ['brand']] = \"Samsung\"\n",
        "df.loc[(df['name'].str.lower().str.contains(\"samsung\"))& (df['brand'].isna()), ['brand']] = \"Samsung\"\n",
        "df.loc[(df['name'].str.lower().str.contains(\"poco\"))& (df['brand'].isna()), ['brand']] = \"POCO\"\n",
        "# df.loc[(df['name'].str.contains(\"Poco\"))& (df['brand'].isna()), ['brand']] = \"POCO\"\n",
        "df.loc[(df['name'].str.lower().str.contains(\"TECNO\"))& (df['brand'].isna()), ['brand']] = \"TECNO\"\n",
        "df.loc[(df['name'].str.lower().str.contains(\"realme\"))& (df['brand'].isna()), ['brand']] = \"Realme\"\n",
        "# df.loc[(df['name'].str.contains(\"Realme\"))& (df['brand'].isna()), ['brand']] = \"Realme\"\n",
        "# df.loc[(df['name'].str.contains(\"realme\"))& (df['brand'].isna()), ['brand']] = \"Realme\"\n",
        "df.loc[(df['name'].str.lower().str.contains(\"Google\"))& (df['brand'].isna()), ['brand']] = \"Google\"\n",
        "df[df['brand'].isna()].head(40)"
      ]
    },
    {
      "cell_type": "code",
      "execution_count": null,
      "metadata": {
        "id": "z6Bn6f7HBY3j"
      },
      "outputs": [],
      "source": [
        "# можно было циклом пройтись по брендам и если этот бренд есть в названии и бренд None, то написать этот бренд в столбец бренд\n",
        "df.loc[df['name'].str.lower().str.contains(\"iphone\"), ['brand']] = \"Apple\"\n",
        "df.loc[df['name'].str.lower().str.contains(\"redmi\"), ['brand']] = \"Xiaomi\"\n",
        "df.loc[df['name'].str.lower().str.contains(\"xiaomi\"), ['brand']] = \"Xiaomi\"\n",
        "df.loc[df['name'].str.lower().str.contains(\"galaxy\"), ['brand']] = \"Samsung\"\n",
        "df.loc[df['name'].str.lower().str.contains(\"samsung\"), ['brand']] = \"Samsung\"\n",
        "df.loc[df['name'].str.lower().str.contains(\"poco\"), ['brand']] = \"POCO\"\n",
        "df.loc[df['name'].str.lower().str.contains(\"TECNO\"), ['brand']] = \"TECNO\"\n",
        "df.loc[df['name'].str.lower().str.contains(\"realme\"), ['brand']] = \"Realme\"\n",
        "df.loc[df['name'].str.lower().str.contains(\"Google\"), ['brand']] = \"Google\""
      ]
    },
    {
      "cell_type": "code",
      "execution_count": null,
      "metadata": {
        "id": "nL5tqstAA3Bz"
      },
      "outputs": [],
      "source": [
        "brands = df_all['brand'].unique()\n",
        "brands = [str(brand).lower() for brand in brands if len(str(brand)) > 3]\n",
        "brands"
      ]
    },
    {
      "cell_type": "code",
      "execution_count": null,
      "metadata": {
        "id": "GzOj5OK3B48n"
      },
      "outputs": [],
      "source": [
        "def concat_brand(data):\n",
        "    for item in data:\n",
        "        print(item)\n",
        "        if not any(brand in item['name'].str.lower() for brand in brands):\n",
        "            item['name'] = item['brand'] + \" \"+ item['name'] \n",
        "    return data"
      ]
    },
    {
      "cell_type": "code",
      "execution_count": null,
      "metadata": {
        "colab": {
          "base_uri": "https://localhost:8080/",
          "height": 206
        },
        "id": "MYAwXRG8vKML",
        "outputId": "82a815d8-91dd-44fd-d555-e1b1d37a6d40"
      },
      "outputs": [
        {
          "data": {
            "text/html": [
              "\n",
              "  <div id=\"df-233c21ff-bc09-4538-aef3-ecc48c52619a\">\n",
              "    <div class=\"colab-df-container\">\n",
              "      <div>\n",
              "<style scoped>\n",
              "    .dataframe tbody tr th:only-of-type {\n",
              "        vertical-align: middle;\n",
              "    }\n",
              "\n",
              "    .dataframe tbody tr th {\n",
              "        vertical-align: top;\n",
              "    }\n",
              "\n",
              "    .dataframe thead th {\n",
              "        text-align: right;\n",
              "    }\n",
              "</style>\n",
              "<table border=\"1\" class=\"dataframe\">\n",
              "  <thead>\n",
              "    <tr style=\"text-align: right;\">\n",
              "      <th></th>\n",
              "      <th>name</th>\n",
              "      <th>price</th>\n",
              "      <th>url</th>\n",
              "      <th>category</th>\n",
              "      <th>marketplace</th>\n",
              "    </tr>\n",
              "  </thead>\n",
              "  <tbody>\n",
              "    <tr>\n",
              "      <th>0</th>\n",
              "      <td>realme  с35 4 128gb</td>\n",
              "      <td>9999</td>\n",
              "      <td>https://www.wildberries.ru/catalog/111864727/d...</td>\n",
              "      <td>smartphones</td>\n",
              "      <td>wb</td>\n",
              "    </tr>\n",
              "    <tr>\n",
              "      <th>1</th>\n",
              "      <td>poco  c40 4 gb+64 gb</td>\n",
              "      <td>6495</td>\n",
              "      <td>https://www.wildberries.ru/catalog/114713906/d...</td>\n",
              "      <td>smartphones</td>\n",
              "      <td>wb</td>\n",
              "    </tr>\n",
              "    <tr>\n",
              "      <th>2</th>\n",
              "      <td>oppo  смартфон а17 4+64 гб</td>\n",
              "      <td>7033</td>\n",
              "      <td>https://www.wildberries.ru/catalog/126920777/d...</td>\n",
              "      <td>smartphones</td>\n",
              "      <td>wb</td>\n",
              "    </tr>\n",
              "    <tr>\n",
              "      <th>3</th>\n",
              "      <td>oppo  смартфон reno7 8+128 гб</td>\n",
              "      <td>13995</td>\n",
              "      <td>https://www.wildberries.ru/catalog/116872733/d...</td>\n",
              "      <td>smartphones</td>\n",
              "      <td>wb</td>\n",
              "    </tr>\n",
              "    <tr>\n",
              "      <th>4</th>\n",
              "      <td>xiaomi  смартфон redmi 9a 2gb+32gb</td>\n",
              "      <td>5034</td>\n",
              "      <td>https://www.wildberries.ru/catalog/84018137/de...</td>\n",
              "      <td>smartphones</td>\n",
              "      <td>wb</td>\n",
              "    </tr>\n",
              "  </tbody>\n",
              "</table>\n",
              "</div>\n",
              "      <button class=\"colab-df-convert\" onclick=\"convertToInteractive('df-233c21ff-bc09-4538-aef3-ecc48c52619a')\"\n",
              "              title=\"Convert this dataframe to an interactive table.\"\n",
              "              style=\"display:none;\">\n",
              "        \n",
              "  <svg xmlns=\"http://www.w3.org/2000/svg\" height=\"24px\"viewBox=\"0 0 24 24\"\n",
              "       width=\"24px\">\n",
              "    <path d=\"M0 0h24v24H0V0z\" fill=\"none\"/>\n",
              "    <path d=\"M18.56 5.44l.94 2.06.94-2.06 2.06-.94-2.06-.94-.94-2.06-.94 2.06-2.06.94zm-11 1L8.5 8.5l.94-2.06 2.06-.94-2.06-.94L8.5 2.5l-.94 2.06-2.06.94zm10 10l.94 2.06.94-2.06 2.06-.94-2.06-.94-.94-2.06-.94 2.06-2.06.94z\"/><path d=\"M17.41 7.96l-1.37-1.37c-.4-.4-.92-.59-1.43-.59-.52 0-1.04.2-1.43.59L10.3 9.45l-7.72 7.72c-.78.78-.78 2.05 0 2.83L4 21.41c.39.39.9.59 1.41.59.51 0 1.02-.2 1.41-.59l7.78-7.78 2.81-2.81c.8-.78.8-2.07 0-2.86zM5.41 20L4 18.59l7.72-7.72 1.47 1.35L5.41 20z\"/>\n",
              "  </svg>\n",
              "      </button>\n",
              "      \n",
              "  <style>\n",
              "    .colab-df-container {\n",
              "      display:flex;\n",
              "      flex-wrap:wrap;\n",
              "      gap: 12px;\n",
              "    }\n",
              "\n",
              "    .colab-df-convert {\n",
              "      background-color: #E8F0FE;\n",
              "      border: none;\n",
              "      border-radius: 50%;\n",
              "      cursor: pointer;\n",
              "      display: none;\n",
              "      fill: #1967D2;\n",
              "      height: 32px;\n",
              "      padding: 0 0 0 0;\n",
              "      width: 32px;\n",
              "    }\n",
              "\n",
              "    .colab-df-convert:hover {\n",
              "      background-color: #E2EBFA;\n",
              "      box-shadow: 0px 1px 2px rgba(60, 64, 67, 0.3), 0px 1px 3px 1px rgba(60, 64, 67, 0.15);\n",
              "      fill: #174EA6;\n",
              "    }\n",
              "\n",
              "    [theme=dark] .colab-df-convert {\n",
              "      background-color: #3B4455;\n",
              "      fill: #D2E3FC;\n",
              "    }\n",
              "\n",
              "    [theme=dark] .colab-df-convert:hover {\n",
              "      background-color: #434B5C;\n",
              "      box-shadow: 0px 1px 3px 1px rgba(0, 0, 0, 0.15);\n",
              "      filter: drop-shadow(0px 1px 2px rgba(0, 0, 0, 0.3));\n",
              "      fill: #FFFFFF;\n",
              "    }\n",
              "  </style>\n",
              "\n",
              "      <script>\n",
              "        const buttonEl =\n",
              "          document.querySelector('#df-233c21ff-bc09-4538-aef3-ecc48c52619a button.colab-df-convert');\n",
              "        buttonEl.style.display =\n",
              "          google.colab.kernel.accessAllowed ? 'block' : 'none';\n",
              "\n",
              "        async function convertToInteractive(key) {\n",
              "          const element = document.querySelector('#df-233c21ff-bc09-4538-aef3-ecc48c52619a');\n",
              "          const dataTable =\n",
              "            await google.colab.kernel.invokeFunction('convertToInteractive',\n",
              "                                                     [key], {});\n",
              "          if (!dataTable) return;\n",
              "\n",
              "          const docLinkHtml = 'Like what you see? Visit the ' +\n",
              "            '<a target=\"_blank\" href=https://colab.research.google.com/notebooks/data_table.ipynb>data table notebook</a>'\n",
              "            + ' to learn more about interactive tables.';\n",
              "          element.innerHTML = '';\n",
              "          dataTable['output_type'] = 'display_data';\n",
              "          await google.colab.output.renderOutput(dataTable, element);\n",
              "          const docLink = document.createElement('div');\n",
              "          docLink.innerHTML = docLinkHtml;\n",
              "          element.appendChild(docLink);\n",
              "        }\n",
              "      </script>\n",
              "    </div>\n",
              "  </div>\n",
              "  "
            ],
            "text/plain": [
              "                                 name  price  \\\n",
              "0                 realme  с35 4 128gb   9999   \n",
              "1                poco  c40 4 gb+64 gb   6495   \n",
              "2          oppo  смартфон а17 4+64 гб   7033   \n",
              "3       oppo  смартфон reno7 8+128 гб  13995   \n",
              "4  xiaomi  смартфон redmi 9a 2gb+32gb   5034   \n",
              "\n",
              "                                                 url     category marketplace  \n",
              "0  https://www.wildberries.ru/catalog/111864727/d...  smartphones          wb  \n",
              "1  https://www.wildberries.ru/catalog/114713906/d...  smartphones          wb  \n",
              "2  https://www.wildberries.ru/catalog/126920777/d...  smartphones          wb  \n",
              "3  https://www.wildberries.ru/catalog/116872733/d...  smartphones          wb  \n",
              "4  https://www.wildberries.ru/catalog/84018137/de...  smartphones          wb  "
            ]
          },
          "execution_count": 162,
          "metadata": {},
          "output_type": "execute_result"
        }
      ],
      "source": []
    },
    {
      "cell_type": "code",
      "execution_count": null,
      "metadata": {
        "id": "_rAAKTVK5dBl"
      },
      "outputs": [],
      "source": [
        "df['brand'].unique()"
      ]
    },
    {
      "cell_type": "markdown",
      "metadata": {
        "id": "9YUOVAcILZff"
      },
      "source": [
        "### путь к близости"
      ]
    },
    {
      "cell_type": "code",
      "execution_count": 48,
      "metadata": {
        "colab": {
          "base_uri": "https://localhost:8080/",
          "height": 1000
        },
        "id": "gDiIp_sGLmZc",
        "outputId": "2522d7e3-f39d-4804-e5ce-ed467028d0c4"
      },
      "outputs": [
        {
          "output_type": "stream",
          "name": "stderr",
          "text": [
            "[nltk_data] Downloading package stopwords to /root/nltk_data...\n",
            "[nltk_data]   Package stopwords is already up-to-date!\n"
          ]
        },
        {
          "output_type": "execute_result",
          "data": {
            "text/plain": [
              "          sku      brand                                              title  \\\n",
              "0   145805425      honor           honor x7a 4gb 128g титановый серебристый   \n",
              "1   100469818       poco                            poco m5s 4gb 64gb white   \n",
              "2    50802415       ayya                                            t1 blue   \n",
              "3   139284302     xiaomi  xiaomi redmi 9a ru, ips, 2 32 gb, 13 5 мп, 500...   \n",
              "4   123451214     realme                                 c33 5000 ма*ч 6.5\"   \n",
              "5   100706904     doogee                                   s35t 4350 мач 5\"   \n",
              "7   122468192     noname                       sony xperia z5 compact black   \n",
              "8   149744527    samsung                                  galaxy a04e 128gb   \n",
              "9   136028158         bq                           cмартфон bq 5740g spring   \n",
              "10   76761680     xiaomi  xiaomi 12 pro 12 gb 256 gb 6.73\" 1440 x 3200 5...   \n",
              "12  149590464     huawei                    huawei nova y61 4 64 gb, черный   \n",
              "13  144474850    infinix                           infinix note 12 6 128 gb   \n",
              "14   48971512         bq                                bq 5060l basic   5\"   \n",
              "15  140128753    samsung                            galaxy z flip4 5g 128gb   \n",
              "16   94669603      redmi                      xiaomi redmi 10с 3 64gb синий   \n",
              "18  151169285     doogee                                 doogee v20 8 256gb   \n",
              "19  151169265     doogee                                 doogee s98 8 256gb   \n",
              "20  140148757      apple                      iphone 14 pro 256gb (гонконг)   \n",
              "21   95268379  appclinic                                     iphone 8 256gb   \n",
              "22  123330743      tecno                                   pova 4 6000 6,82   \n",
              "\n",
              "       price  stars                                                url  \\\n",
              "0    15220.0    4.0  https://www.wildberries.ru/catalog/145805425/d...   \n",
              "1    13591.0    5.0  https://www.wildberries.ru/catalog/100469818/d...   \n",
              "2    13432.0    4.0  https://www.wildberries.ru/catalog/50802415/de...   \n",
              "3    11963.0    4.0  https://www.wildberries.ru/catalog/139284302/d...   \n",
              "4     8890.0    4.0  https://www.wildberries.ru/catalog/123451214/d...   \n",
              "5     7096.0    4.0  https://www.wildberries.ru/catalog/100706904/d...   \n",
              "7    15400.0    5.0  https://www.wildberries.ru/catalog/122468192/d...   \n",
              "8    11242.0    0.0  https://www.wildberries.ru/catalog/149744527/d...   \n",
              "9     3489.0    5.0  https://www.wildberries.ru/catalog/136028158/d...   \n",
              "10   89093.0    4.0  https://www.wildberries.ru/catalog/76761680/de...   \n",
              "12    9499.0    0.0  https://www.wildberries.ru/catalog/149590464/d...   \n",
              "13   12153.0    0.0  https://www.wildberries.ru/catalog/144474850/d...   \n",
              "14    2999.0    4.0  https://www.wildberries.ru/catalog/48971512/de...   \n",
              "15   61491.0    0.0  https://www.wildberries.ru/catalog/140128753/d...   \n",
              "16   10393.0    4.0  https://www.wildberries.ru/catalog/94669603/de...   \n",
              "18   25101.0    0.0  https://www.wildberries.ru/catalog/151169285/d...   \n",
              "19   21311.0    5.0  https://www.wildberries.ru/catalog/151169265/d...   \n",
              "20  101392.0    0.0  https://www.wildberries.ru/catalog/140148757/d...   \n",
              "21   21380.0    3.0  https://www.wildberries.ru/catalog/95268379/de...   \n",
              "22   16473.0    5.0  https://www.wildberries.ru/catalog/123330743/d...   \n",
              "\n",
              "                                          description  \\\n",
              "0   новинка honor x7a тонком корпусе 8.27 мм. боль...   \n",
              "1   poco m5s имеет 6,43 дюймовый amoled экран част...   \n",
              "2   ayya t1 уникальное решение сохранения конфиден...   \n",
              "3   xiaomi redmi 9a ru 6.53 ips 2 gb 32 gb 13 мп 5...   \n",
              "4   realme c33 переливающийся свету корпусе плоски...   \n",
              "5                                                       \n",
              "7   особенности водонепроницаемый пыленепроницаемы...   \n",
              "8   6,5 дюймовый дисплей восьмиядерный процессор е...   \n",
              "9   аппарат прекрасно лежит руке выглядит визуальн...   \n",
              "10  cмартфон xiaomi 12 pro готов продемонстрироват...   \n",
              "12  диагональ экрана 6.52 количество основных каме...   \n",
              "13  infinix note 12 6+128gb процессор helio g88,6 ...   \n",
              "14  представляем вашему вниманию модный bq 5060l b...   \n",
              "15  думать влезет телефон карман. компактный функц...   \n",
              "16  xiaomi redmi 10c оснащен невероятным восьмияде...   \n",
              "18  идеальное сочетание качества производительност...   \n",
              "19  doogee s98 создан экстремалов. благодаря высок...   \n",
              "20  модель рынка гонконга. iphone 14 pro — новинка...   \n",
              "21  благодаря своим новшествам которые делают ipho...   \n",
              "22  попрощайтесь задержками малым объемом памяти м...   \n",
              "\n",
              "                                       specifications marketplace  id  flag  \n",
              "0   {'Связь': [['Беспроводные интерфейсы', 'Blueto...          wb   0  full  \n",
              "1   {'Память': [['Объем оперативной памяти (Гб)', ...          wb   1  full  \n",
              "2   {'Мультимедийные возможности': [['Основная кам...          wb   2  full  \n",
              "3   {'Дополнительная информация': [['Страна произв...          wb   3  full  \n",
              "4   {'Процессор': [['Тактовая частота процессора',...          wb   4  full  \n",
              "5   {'Дополнительная информация': [['Толщина предм...          wb   5  full  \n",
              "7   {'Дополнительная информация': [['Высота упаков...          wb   6  full  \n",
              "8   {'Экран': [['Разрешение экрана', '720 x 1600']...          wb   7  full  \n",
              "9   {'Дополнительная информация': [['Длина упаковк...          wb   8  full  \n",
              "10  {'Мультимедийные возможности': [['Фронтальная ...          wb   9  full  \n",
              "12  {'Память': [['Объем оперативной памяти (Гб)', ...          wb  11  full  \n",
              "13  {'Другие функции': [['Транспортировка', 'не оп...          wb  12  full  \n",
              "14  {'Дополнительная информация': [['Высота предме...          wb  13  full  \n",
              "15  {'Дополнительная информация': [['Высота упаков...          wb  14  full  \n",
              "16  {'Общие характеристики': [['Модель', '10C'], [...          wb  15  full  \n",
              "18  {'Связь': [['Спутниковая навигация', 'ГЛОНАСС,...          wb  16  full  \n",
              "19  {'Процессор': [['Процессор', 'Helio G96'], ['Ф...          wb  17  full  \n",
              "20  {'Дополнительная информация': [['Высота упаков...          wb  18  full  \n",
              "21  {'Память': [['Объем оперативной памяти (Гб)', ...          wb  19  full  \n",
              "22  {'Память': [['Тип карты памяти', 'microSD'], [...          wb  20  full  "
            ],
            "text/html": [
              "\n",
              "  <div id=\"df-36fa2be1-68b1-4463-824d-b1a7b8be3702\">\n",
              "    <div class=\"colab-df-container\">\n",
              "      <div>\n",
              "<style scoped>\n",
              "    .dataframe tbody tr th:only-of-type {\n",
              "        vertical-align: middle;\n",
              "    }\n",
              "\n",
              "    .dataframe tbody tr th {\n",
              "        vertical-align: top;\n",
              "    }\n",
              "\n",
              "    .dataframe thead th {\n",
              "        text-align: right;\n",
              "    }\n",
              "</style>\n",
              "<table border=\"1\" class=\"dataframe\">\n",
              "  <thead>\n",
              "    <tr style=\"text-align: right;\">\n",
              "      <th></th>\n",
              "      <th>sku</th>\n",
              "      <th>brand</th>\n",
              "      <th>title</th>\n",
              "      <th>price</th>\n",
              "      <th>stars</th>\n",
              "      <th>url</th>\n",
              "      <th>description</th>\n",
              "      <th>specifications</th>\n",
              "      <th>marketplace</th>\n",
              "      <th>id</th>\n",
              "      <th>flag</th>\n",
              "    </tr>\n",
              "  </thead>\n",
              "  <tbody>\n",
              "    <tr>\n",
              "      <th>0</th>\n",
              "      <td>145805425</td>\n",
              "      <td>honor</td>\n",
              "      <td>honor x7a 4gb 128g титановый серебристый</td>\n",
              "      <td>15220.0</td>\n",
              "      <td>4.0</td>\n",
              "      <td>https://www.wildberries.ru/catalog/145805425/d...</td>\n",
              "      <td>новинка honor x7a тонком корпусе 8.27 мм. боль...</td>\n",
              "      <td>{'Связь': [['Беспроводные интерфейсы', 'Blueto...</td>\n",
              "      <td>wb</td>\n",
              "      <td>0</td>\n",
              "      <td>full</td>\n",
              "    </tr>\n",
              "    <tr>\n",
              "      <th>1</th>\n",
              "      <td>100469818</td>\n",
              "      <td>poco</td>\n",
              "      <td>poco m5s 4gb 64gb white</td>\n",
              "      <td>13591.0</td>\n",
              "      <td>5.0</td>\n",
              "      <td>https://www.wildberries.ru/catalog/100469818/d...</td>\n",
              "      <td>poco m5s имеет 6,43 дюймовый amoled экран част...</td>\n",
              "      <td>{'Память': [['Объем оперативной памяти (Гб)', ...</td>\n",
              "      <td>wb</td>\n",
              "      <td>1</td>\n",
              "      <td>full</td>\n",
              "    </tr>\n",
              "    <tr>\n",
              "      <th>2</th>\n",
              "      <td>50802415</td>\n",
              "      <td>ayya</td>\n",
              "      <td>t1 blue</td>\n",
              "      <td>13432.0</td>\n",
              "      <td>4.0</td>\n",
              "      <td>https://www.wildberries.ru/catalog/50802415/de...</td>\n",
              "      <td>ayya t1 уникальное решение сохранения конфиден...</td>\n",
              "      <td>{'Мультимедийные возможности': [['Основная кам...</td>\n",
              "      <td>wb</td>\n",
              "      <td>2</td>\n",
              "      <td>full</td>\n",
              "    </tr>\n",
              "    <tr>\n",
              "      <th>3</th>\n",
              "      <td>139284302</td>\n",
              "      <td>xiaomi</td>\n",
              "      <td>xiaomi redmi 9a ru, ips, 2 32 gb, 13 5 мп, 500...</td>\n",
              "      <td>11963.0</td>\n",
              "      <td>4.0</td>\n",
              "      <td>https://www.wildberries.ru/catalog/139284302/d...</td>\n",
              "      <td>xiaomi redmi 9a ru 6.53 ips 2 gb 32 gb 13 мп 5...</td>\n",
              "      <td>{'Дополнительная информация': [['Страна произв...</td>\n",
              "      <td>wb</td>\n",
              "      <td>3</td>\n",
              "      <td>full</td>\n",
              "    </tr>\n",
              "    <tr>\n",
              "      <th>4</th>\n",
              "      <td>123451214</td>\n",
              "      <td>realme</td>\n",
              "      <td>c33 5000 ма*ч 6.5\"</td>\n",
              "      <td>8890.0</td>\n",
              "      <td>4.0</td>\n",
              "      <td>https://www.wildberries.ru/catalog/123451214/d...</td>\n",
              "      <td>realme c33 переливающийся свету корпусе плоски...</td>\n",
              "      <td>{'Процессор': [['Тактовая частота процессора',...</td>\n",
              "      <td>wb</td>\n",
              "      <td>4</td>\n",
              "      <td>full</td>\n",
              "    </tr>\n",
              "    <tr>\n",
              "      <th>5</th>\n",
              "      <td>100706904</td>\n",
              "      <td>doogee</td>\n",
              "      <td>s35t 4350 мач 5\"</td>\n",
              "      <td>7096.0</td>\n",
              "      <td>4.0</td>\n",
              "      <td>https://www.wildberries.ru/catalog/100706904/d...</td>\n",
              "      <td></td>\n",
              "      <td>{'Дополнительная информация': [['Толщина предм...</td>\n",
              "      <td>wb</td>\n",
              "      <td>5</td>\n",
              "      <td>full</td>\n",
              "    </tr>\n",
              "    <tr>\n",
              "      <th>7</th>\n",
              "      <td>122468192</td>\n",
              "      <td>noname</td>\n",
              "      <td>sony xperia z5 compact black</td>\n",
              "      <td>15400.0</td>\n",
              "      <td>5.0</td>\n",
              "      <td>https://www.wildberries.ru/catalog/122468192/d...</td>\n",
              "      <td>особенности водонепроницаемый пыленепроницаемы...</td>\n",
              "      <td>{'Дополнительная информация': [['Высота упаков...</td>\n",
              "      <td>wb</td>\n",
              "      <td>6</td>\n",
              "      <td>full</td>\n",
              "    </tr>\n",
              "    <tr>\n",
              "      <th>8</th>\n",
              "      <td>149744527</td>\n",
              "      <td>samsung</td>\n",
              "      <td>galaxy a04e 128gb</td>\n",
              "      <td>11242.0</td>\n",
              "      <td>0.0</td>\n",
              "      <td>https://www.wildberries.ru/catalog/149744527/d...</td>\n",
              "      <td>6,5 дюймовый дисплей восьмиядерный процессор е...</td>\n",
              "      <td>{'Экран': [['Разрешение экрана', '720 x 1600']...</td>\n",
              "      <td>wb</td>\n",
              "      <td>7</td>\n",
              "      <td>full</td>\n",
              "    </tr>\n",
              "    <tr>\n",
              "      <th>9</th>\n",
              "      <td>136028158</td>\n",
              "      <td>bq</td>\n",
              "      <td>cмартфон bq 5740g spring</td>\n",
              "      <td>3489.0</td>\n",
              "      <td>5.0</td>\n",
              "      <td>https://www.wildberries.ru/catalog/136028158/d...</td>\n",
              "      <td>аппарат прекрасно лежит руке выглядит визуальн...</td>\n",
              "      <td>{'Дополнительная информация': [['Длина упаковк...</td>\n",
              "      <td>wb</td>\n",
              "      <td>8</td>\n",
              "      <td>full</td>\n",
              "    </tr>\n",
              "    <tr>\n",
              "      <th>10</th>\n",
              "      <td>76761680</td>\n",
              "      <td>xiaomi</td>\n",
              "      <td>xiaomi 12 pro 12 gb 256 gb 6.73\" 1440 x 3200 5...</td>\n",
              "      <td>89093.0</td>\n",
              "      <td>4.0</td>\n",
              "      <td>https://www.wildberries.ru/catalog/76761680/de...</td>\n",
              "      <td>cмартфон xiaomi 12 pro готов продемонстрироват...</td>\n",
              "      <td>{'Мультимедийные возможности': [['Фронтальная ...</td>\n",
              "      <td>wb</td>\n",
              "      <td>9</td>\n",
              "      <td>full</td>\n",
              "    </tr>\n",
              "    <tr>\n",
              "      <th>12</th>\n",
              "      <td>149590464</td>\n",
              "      <td>huawei</td>\n",
              "      <td>huawei nova y61 4 64 gb, черный</td>\n",
              "      <td>9499.0</td>\n",
              "      <td>0.0</td>\n",
              "      <td>https://www.wildberries.ru/catalog/149590464/d...</td>\n",
              "      <td>диагональ экрана 6.52 количество основных каме...</td>\n",
              "      <td>{'Память': [['Объем оперативной памяти (Гб)', ...</td>\n",
              "      <td>wb</td>\n",
              "      <td>11</td>\n",
              "      <td>full</td>\n",
              "    </tr>\n",
              "    <tr>\n",
              "      <th>13</th>\n",
              "      <td>144474850</td>\n",
              "      <td>infinix</td>\n",
              "      <td>infinix note 12 6 128 gb</td>\n",
              "      <td>12153.0</td>\n",
              "      <td>0.0</td>\n",
              "      <td>https://www.wildberries.ru/catalog/144474850/d...</td>\n",
              "      <td>infinix note 12 6+128gb процессор helio g88,6 ...</td>\n",
              "      <td>{'Другие функции': [['Транспортировка', 'не оп...</td>\n",
              "      <td>wb</td>\n",
              "      <td>12</td>\n",
              "      <td>full</td>\n",
              "    </tr>\n",
              "    <tr>\n",
              "      <th>14</th>\n",
              "      <td>48971512</td>\n",
              "      <td>bq</td>\n",
              "      <td>bq 5060l basic   5\"</td>\n",
              "      <td>2999.0</td>\n",
              "      <td>4.0</td>\n",
              "      <td>https://www.wildberries.ru/catalog/48971512/de...</td>\n",
              "      <td>представляем вашему вниманию модный bq 5060l b...</td>\n",
              "      <td>{'Дополнительная информация': [['Высота предме...</td>\n",
              "      <td>wb</td>\n",
              "      <td>13</td>\n",
              "      <td>full</td>\n",
              "    </tr>\n",
              "    <tr>\n",
              "      <th>15</th>\n",
              "      <td>140128753</td>\n",
              "      <td>samsung</td>\n",
              "      <td>galaxy z flip4 5g 128gb</td>\n",
              "      <td>61491.0</td>\n",
              "      <td>0.0</td>\n",
              "      <td>https://www.wildberries.ru/catalog/140128753/d...</td>\n",
              "      <td>думать влезет телефон карман. компактный функц...</td>\n",
              "      <td>{'Дополнительная информация': [['Высота упаков...</td>\n",
              "      <td>wb</td>\n",
              "      <td>14</td>\n",
              "      <td>full</td>\n",
              "    </tr>\n",
              "    <tr>\n",
              "      <th>16</th>\n",
              "      <td>94669603</td>\n",
              "      <td>redmi</td>\n",
              "      <td>xiaomi redmi 10с 3 64gb синий</td>\n",
              "      <td>10393.0</td>\n",
              "      <td>4.0</td>\n",
              "      <td>https://www.wildberries.ru/catalog/94669603/de...</td>\n",
              "      <td>xiaomi redmi 10c оснащен невероятным восьмияде...</td>\n",
              "      <td>{'Общие характеристики': [['Модель', '10C'], [...</td>\n",
              "      <td>wb</td>\n",
              "      <td>15</td>\n",
              "      <td>full</td>\n",
              "    </tr>\n",
              "    <tr>\n",
              "      <th>18</th>\n",
              "      <td>151169285</td>\n",
              "      <td>doogee</td>\n",
              "      <td>doogee v20 8 256gb</td>\n",
              "      <td>25101.0</td>\n",
              "      <td>0.0</td>\n",
              "      <td>https://www.wildberries.ru/catalog/151169285/d...</td>\n",
              "      <td>идеальное сочетание качества производительност...</td>\n",
              "      <td>{'Связь': [['Спутниковая навигация', 'ГЛОНАСС,...</td>\n",
              "      <td>wb</td>\n",
              "      <td>16</td>\n",
              "      <td>full</td>\n",
              "    </tr>\n",
              "    <tr>\n",
              "      <th>19</th>\n",
              "      <td>151169265</td>\n",
              "      <td>doogee</td>\n",
              "      <td>doogee s98 8 256gb</td>\n",
              "      <td>21311.0</td>\n",
              "      <td>5.0</td>\n",
              "      <td>https://www.wildberries.ru/catalog/151169265/d...</td>\n",
              "      <td>doogee s98 создан экстремалов. благодаря высок...</td>\n",
              "      <td>{'Процессор': [['Процессор', 'Helio G96'], ['Ф...</td>\n",
              "      <td>wb</td>\n",
              "      <td>17</td>\n",
              "      <td>full</td>\n",
              "    </tr>\n",
              "    <tr>\n",
              "      <th>20</th>\n",
              "      <td>140148757</td>\n",
              "      <td>apple</td>\n",
              "      <td>iphone 14 pro 256gb (гонконг)</td>\n",
              "      <td>101392.0</td>\n",
              "      <td>0.0</td>\n",
              "      <td>https://www.wildberries.ru/catalog/140148757/d...</td>\n",
              "      <td>модель рынка гонконга. iphone 14 pro — новинка...</td>\n",
              "      <td>{'Дополнительная информация': [['Высота упаков...</td>\n",
              "      <td>wb</td>\n",
              "      <td>18</td>\n",
              "      <td>full</td>\n",
              "    </tr>\n",
              "    <tr>\n",
              "      <th>21</th>\n",
              "      <td>95268379</td>\n",
              "      <td>appclinic</td>\n",
              "      <td>iphone 8 256gb</td>\n",
              "      <td>21380.0</td>\n",
              "      <td>3.0</td>\n",
              "      <td>https://www.wildberries.ru/catalog/95268379/de...</td>\n",
              "      <td>благодаря своим новшествам которые делают ipho...</td>\n",
              "      <td>{'Память': [['Объем оперативной памяти (Гб)', ...</td>\n",
              "      <td>wb</td>\n",
              "      <td>19</td>\n",
              "      <td>full</td>\n",
              "    </tr>\n",
              "    <tr>\n",
              "      <th>22</th>\n",
              "      <td>123330743</td>\n",
              "      <td>tecno</td>\n",
              "      <td>pova 4 6000 6,82</td>\n",
              "      <td>16473.0</td>\n",
              "      <td>5.0</td>\n",
              "      <td>https://www.wildberries.ru/catalog/123330743/d...</td>\n",
              "      <td>попрощайтесь задержками малым объемом памяти м...</td>\n",
              "      <td>{'Память': [['Тип карты памяти', 'microSD'], [...</td>\n",
              "      <td>wb</td>\n",
              "      <td>20</td>\n",
              "      <td>full</td>\n",
              "    </tr>\n",
              "  </tbody>\n",
              "</table>\n",
              "</div>\n",
              "      <button class=\"colab-df-convert\" onclick=\"convertToInteractive('df-36fa2be1-68b1-4463-824d-b1a7b8be3702')\"\n",
              "              title=\"Convert this dataframe to an interactive table.\"\n",
              "              style=\"display:none;\">\n",
              "        \n",
              "  <svg xmlns=\"http://www.w3.org/2000/svg\" height=\"24px\"viewBox=\"0 0 24 24\"\n",
              "       width=\"24px\">\n",
              "    <path d=\"M0 0h24v24H0V0z\" fill=\"none\"/>\n",
              "    <path d=\"M18.56 5.44l.94 2.06.94-2.06 2.06-.94-2.06-.94-.94-2.06-.94 2.06-2.06.94zm-11 1L8.5 8.5l.94-2.06 2.06-.94-2.06-.94L8.5 2.5l-.94 2.06-2.06.94zm10 10l.94 2.06.94-2.06 2.06-.94-2.06-.94-.94-2.06-.94 2.06-2.06.94z\"/><path d=\"M17.41 7.96l-1.37-1.37c-.4-.4-.92-.59-1.43-.59-.52 0-1.04.2-1.43.59L10.3 9.45l-7.72 7.72c-.78.78-.78 2.05 0 2.83L4 21.41c.39.39.9.59 1.41.59.51 0 1.02-.2 1.41-.59l7.78-7.78 2.81-2.81c.8-.78.8-2.07 0-2.86zM5.41 20L4 18.59l7.72-7.72 1.47 1.35L5.41 20z\"/>\n",
              "  </svg>\n",
              "      </button>\n",
              "      \n",
              "  <style>\n",
              "    .colab-df-container {\n",
              "      display:flex;\n",
              "      flex-wrap:wrap;\n",
              "      gap: 12px;\n",
              "    }\n",
              "\n",
              "    .colab-df-convert {\n",
              "      background-color: #E8F0FE;\n",
              "      border: none;\n",
              "      border-radius: 50%;\n",
              "      cursor: pointer;\n",
              "      display: none;\n",
              "      fill: #1967D2;\n",
              "      height: 32px;\n",
              "      padding: 0 0 0 0;\n",
              "      width: 32px;\n",
              "    }\n",
              "\n",
              "    .colab-df-convert:hover {\n",
              "      background-color: #E2EBFA;\n",
              "      box-shadow: 0px 1px 2px rgba(60, 64, 67, 0.3), 0px 1px 3px 1px rgba(60, 64, 67, 0.15);\n",
              "      fill: #174EA6;\n",
              "    }\n",
              "\n",
              "    [theme=dark] .colab-df-convert {\n",
              "      background-color: #3B4455;\n",
              "      fill: #D2E3FC;\n",
              "    }\n",
              "\n",
              "    [theme=dark] .colab-df-convert:hover {\n",
              "      background-color: #434B5C;\n",
              "      box-shadow: 0px 1px 3px 1px rgba(0, 0, 0, 0.15);\n",
              "      filter: drop-shadow(0px 1px 2px rgba(0, 0, 0, 0.3));\n",
              "      fill: #FFFFFF;\n",
              "    }\n",
              "  </style>\n",
              "\n",
              "      <script>\n",
              "        const buttonEl =\n",
              "          document.querySelector('#df-36fa2be1-68b1-4463-824d-b1a7b8be3702 button.colab-df-convert');\n",
              "        buttonEl.style.display =\n",
              "          google.colab.kernel.accessAllowed ? 'block' : 'none';\n",
              "\n",
              "        async function convertToInteractive(key) {\n",
              "          const element = document.querySelector('#df-36fa2be1-68b1-4463-824d-b1a7b8be3702');\n",
              "          const dataTable =\n",
              "            await google.colab.kernel.invokeFunction('convertToInteractive',\n",
              "                                                     [key], {});\n",
              "          if (!dataTable) return;\n",
              "\n",
              "          const docLinkHtml = 'Like what you see? Visit the ' +\n",
              "            '<a target=\"_blank\" href=https://colab.research.google.com/notebooks/data_table.ipynb>data table notebook</a>'\n",
              "            + ' to learn more about interactive tables.';\n",
              "          element.innerHTML = '';\n",
              "          dataTable['output_type'] = 'display_data';\n",
              "          await google.colab.output.renderOutput(dataTable, element);\n",
              "          const docLink = document.createElement('div');\n",
              "          docLink.innerHTML = docLinkHtml;\n",
              "          element.appendChild(docLink);\n",
              "        }\n",
              "      </script>\n",
              "    </div>\n",
              "  </div>\n",
              "  "
            ]
          },
          "metadata": {},
          "execution_count": 48
        }
      ],
      "source": [
        "# убрать знаки пунктуации\n",
        "# с gb разделять или нет?\n",
        "import nltk\n",
        "import string\n",
        "import re\n",
        "nltk.download('stopwords')\n",
        "stop_words = nltk.corpus.stopwords.words('russian')\n",
        "\n",
        "word_tokenizer = nltk.WordPunctTokenizer()\n",
        "\n",
        "def process_data(text):\n",
        "    text = text.lower().replace(\"/\",\" \").replace(\"+\",\" \").replace('смартфон',\"\").replace('гб','gb').strip()\n",
        "    # удалить пробел между числом и gb?, мне кажется это может влиять на качество, так что пока не будем\n",
        "    # tokens     = word_tokenizer.tokenize(text)\n",
        "    # tokens = [word for word in tokens if (word not in string.punctuation)]\n",
        "    return text\n",
        "    \n",
        "def process_price(price):\n",
        "    price = price.split(\"\\n\")[0]\n",
        "    return price\n",
        "\n",
        "def process_description(desc):\n",
        "    desc = desc.lower().replace('смартфон',\"\").replace('гб','gb').replace(', ',' ')\n",
        "    desc = re.sub(r'[\\-\\:]',\" \",desc)\n",
        "    desc = re.sub(r'[!?\"]',\"\",desc)\n",
        "    desc = re.sub(r'\\s+',\" \",desc)\n",
        "\n",
        "    tokens     = desc.split(\" \") # splits the text into tokens (words)\n",
        "    # еще бы хорошо все это привести в нормальную форму лемматизировать\n",
        "    # remove punct and stop words from tokens\n",
        "    tokens = [word for word in tokens if (word not in string.punctuation and word not in stop_words)]\n",
        "    return \" \".join(tokens)\n",
        "\n",
        "df_all['title'] = df_all['title'].apply(process_data)\n",
        "df_all['brand'] = df_all['brand'].apply(process_data)\n",
        "# df_all = df_all[df_all['title'] != \"\"]\n",
        "df_all['description'] = df_all['description'].apply(process_description)\n",
        "\n",
        "# replace empty title with first 5 words in description\n",
        "df_all.loc[df_all['title'] == \"\", ['flag']] = 'nothing'\n",
        "df_all.loc[df_all['title'] != \"\", ['flag']] = 'full'\n",
        "df_all['title'].mask(df_all['title'] == '', df_all['description'].apply(lambda x: \" \".join(x.split()[:5])), inplace=True)\n",
        "# end of replacing\n",
        "\n",
        "df_all = df_all[df_all['title'] != \"\"]\n",
        "df_all = df_all.drop_duplicates(subset=['title','brand','price','description'])\n",
        "\n",
        "df_all.head(20)"
      ]
    },
    {
      "cell_type": "code",
      "source": [
        "df_all.shape"
      ],
      "metadata": {
        "colab": {
          "base_uri": "https://localhost:8080/"
        },
        "id": "ebWqpMBtKZhw",
        "outputId": "51b69c03-8baf-4146-c911-ed35188cd768"
      },
      "execution_count": 79,
      "outputs": [
        {
          "output_type": "execute_result",
          "data": {
            "text/plain": [
              "(5882, 9)"
            ]
          },
          "metadata": {},
          "execution_count": 79
        }
      ]
    },
    {
      "cell_type": "markdown",
      "source": [
        "### Пропустить"
      ],
      "metadata": {
        "id": "88vdkV11fvJH"
      }
    },
    {
      "cell_type": "markdown",
      "metadata": {
        "id": "BZ_RWzqmAkoc"
      },
      "source": [
        "Шаги:\n",
        "\n",
        "1. применить tf-idf vectorizer\n",
        "2. взять 2 рандомных элемента? (может похожих) (2 рандомных и 2 похожих)\n",
        "\n",
        "Посчитать\n",
        "\n",
        "Jaccard similarity для названий товаров (ну можно дополнительно и кос близость посчитать, почему нет)\n",
        "\n",
        "Косинусную близость между категориями?\n",
        "\n",
        "По расстоянию Левенштейна сходство по бренду? (у нас он кажется должен быть идентичен?) (бренд конечно тоже мусорный)\n",
        "\n",
        "Относительная разница в цене\n"
      ]
    },
    {
      "cell_type": "code",
      "execution_count": null,
      "metadata": {
        "id": "U4d7OvGPCz0U"
      },
      "outputs": [],
      "source": [
        "title_vectors = []\n",
        "brand_vectors = []\n",
        "prices = []\n"
      ]
    },
    {
      "cell_type": "code",
      "execution_count": null,
      "metadata": {
        "id": "A6hq8jcYC_CM"
      },
      "outputs": [],
      "source": [
        "from sklearn.feature_extraction.text import TfidfVectorizer, CountVectorizer\n",
        "def get_tfidf_vector(data_samples: list, ngram_range: tuple = (1, 1), n_features: int = 1000):\n",
        "    \"\"\"\n",
        "    реализация tf-idf для построения embeddings\n",
        "    :param model:\n",
        "    :return:\n",
        "    \"\"\"\n",
        "    vectorizer = TfidfVectorizer(max_features=n_features, ngram_range=ngram_range)\n",
        "    x_vector = vectorizer.fit_transform(data_samples)\n",
        "    return x_vector, vectorizer"
      ]
    },
    {
      "cell_type": "code",
      "execution_count": null,
      "metadata": {
        "id": "aFllx2dnDEk4"
      },
      "outputs": [],
      "source": [
        "title_vectors, vectorizer = get_tfidf_vector(df['name'].tolist())"
      ]
    },
    {
      "cell_type": "code",
      "execution_count": null,
      "metadata": {
        "colab": {
          "base_uri": "https://localhost:8080/"
        },
        "id": "_tHLcNXyDbq8",
        "outputId": "642a4640-f8ab-44de-d499-434a4adebc6b"
      },
      "outputs": [
        {
          "data": {
            "text/plain": [
              "matrix([[0., 0., 0., ..., 0., 0., 0.],\n",
              "        [0., 0., 0., ..., 0., 0., 0.],\n",
              "        [0., 0., 0., ..., 0., 0., 0.],\n",
              "        ...,\n",
              "        [0., 0., 0., ..., 0., 0., 0.],\n",
              "        [0., 0., 0., ..., 0., 0., 0.],\n",
              "        [0., 0., 0., ..., 0., 0., 0.]])"
            ]
          },
          "execution_count": 114,
          "metadata": {},
          "output_type": "execute_result"
        }
      ],
      "source": [
        "title_vectors.todense()"
      ]
    },
    {
      "cell_type": "code",
      "execution_count": null,
      "metadata": {
        "colab": {
          "base_uri": "https://localhost:8080/"
        },
        "id": "b3yZ4khlDfYM",
        "outputId": "ffead2c3-eb57-4a3e-d53d-b1f9f3d466e3"
      },
      "outputs": [
        {
          "data": {
            "text/plain": [
              "['с35 4 128gb',\n",
              " 'c40 4 gb+64 gb',\n",
              " 'смартфон а17 4+64 гб',\n",
              " 'смартфон reno7 8+128 гб',\n",
              " 'смартфон redmi 9a 2gb+32gb',\n",
              " 'hot 12 pro 8+128gb',\n",
              " 'смартфон redmi a1+ 2gb+32gb',\n",
              " 'смартфон а17 4+64 гб',\n",
              " 'c40 3 gb+32 gb',\n",
              " 'смартфон а17k 3+64 гб',\n",
              " 'смартфон redmi 9a 2gb+32gb',\n",
              " 'смартфон redmi 10c 4 gb 128 gb',\n",
              " 'смартфон redmi 10c 4gb 64gb',\n",
              " 'смартфон redmi note 10 pro 6gb+64gb',\n",
              " 'c40 4 gb+64 gb',\n",
              " 'смартфон poco x5 5g 8gb+256gb',\n",
              " 'смартфон а57s 4+128 гб',\n",
              " 'смартфон redmi note 11s 6gb 128gb 6.43\" 1080 x 2400 108 мп+8…',\n",
              " 'galaxy a33 5g 128gb',\n",
              " 'смартфон redmi a1+ 2gb+32gb',\n",
              " '10 4g 4 128gb',\n",
              " 'смартфон redmi 10 2022 4gb 64gb',\n",
              " 'смартфон redmi 9a 2gb+32gb',\n",
              " 'смартфон а17k 3+64 гб',\n",
              " 'смартфон redmi 10c 3gb+64gb',\n",
              " 'смартфон redmi a1+ 2gb+32gb',\n",
              " 'с31 4 64gb',\n",
              " 'galaxy a23 128gb',\n",
              " '10 4g 4 128gb',\n",
              " 'смартфон m5 4gb+128gb']"
            ]
          },
          "execution_count": 6,
          "metadata": {},
          "output_type": "execute_result"
        }
      ],
      "source": [
        "df['name'].tolist()[:30]"
      ]
    },
    {
      "cell_type": "code",
      "execution_count": null,
      "metadata": {
        "id": "8Ob-2UcWDrAF"
      },
      "outputs": [],
      "source": [
        "names = df_all['name'].tolist()\n",
        "markets = df_all['marketplace'].tolist()\n",
        "# brands = df_all['brand'].tolist()\n",
        "# iphones = []\n",
        "# for item,brand in zip(names,brands):\n",
        "#     if \"iphone\" in item.lower() or 'apple' in item.lower():\n",
        "#         # print(item, \"brand = \", brand)\n",
        "#         iphones.append(item)\n",
        "# print(len(iphones))"
      ]
    },
    {
      "cell_type": "code",
      "execution_count": null,
      "metadata": {
        "colab": {
          "base_uri": "https://localhost:8080/"
        },
        "id": "9p2sG9YnExvw",
        "outputId": "a0e6bded-cb6f-4562-e030-3ca4b97bfb18"
      },
      "outputs": [
        {
          "data": {
            "text/plain": [
              "['apple iphone 14 pro 1000 гб серебристый',\n",
              " 'apple iphone 14 pro 1000 гб фиолетовый',\n",
              " 'apple iphone 14 pro max 1000 гб золотистый',\n",
              " 'apple iphone 14 pro max 1000 гб золотистый',\n",
              " 'apple iphone 14 pro max 1000 гб серебристый',\n",
              " 'apple iphone 14 pro max 1000 гб фиолетовый',\n",
              " 'apple iphone 14 pro max 1000 гб фиолетовый',\n",
              " 'apple iphone 14 pro max 1000 гб фиолетовый',\n",
              " 'apple iphone 14 pro max 1000 гб черный',\n",
              " 'apple iphone 14 pro max 1000 гб черный']"
            ]
          },
          "execution_count": 222,
          "metadata": {},
          "output_type": "execute_result"
        }
      ],
      "source": [
        "names[-10:]"
      ]
    },
    {
      "cell_type": "markdown",
      "metadata": {
        "id": "mCot9WXCGyN6"
      },
      "source": [
        "1. Сделать предобработку нормальную такую (лемматизацию не забыть) (взять файл transform_data?), сделать вектора (сначала tf-idf) и попробовать посчитать близость по разным метрикам (jaccard, cosine, euclidian)\n",
        "\n",
        "2. Не делать предобработку, просто запихнуть в BERT (но можно и обработать), использовать мультиязычную модель, тк сначала у нас смартфоны, названия которых в основном на английском. Посчитать близость (есть статья, почитать - https://towardsdatascience.com/bert-for-measuring-text-similarity-eec91c6bf9e1)\n",
        "\n",
        "Код здесь - https://github.com/jamescalam/transformers/blob/main/course/similarity/04_sentence_transformers.ipynb\n",
        "\n",
        "и здесь - https://github.com/jamescalam/transformers/blob/main/course/similarity/03_calculating_similarity.ipynb\n",
        "3. Попробовать Transformers: BERT (DeepPavlov, multiling), Sentensetransformer"
      ]
    },
    {
      "cell_type": "markdown",
      "source": [
        "### ST+umap+hdbscan"
      ],
      "metadata": {
        "id": "p889U2jmfzHI"
      }
    },
    {
      "cell_type": "code",
      "execution_count": 50,
      "metadata": {
        "id": "NqjnJ9wkQGIS"
      },
      "outputs": [],
      "source": [
        "titles = df_all['title'].tolist()\n",
        "# markets = df_all['marketplace'].tolist()"
      ]
    },
    {
      "cell_type": "code",
      "execution_count": null,
      "metadata": {
        "id": "8JJyfIzMFQQz"
      },
      "outputs": [],
      "source": [
        "!pip install -U sentence-transformers\n",
        "!pip install umap-learn\n",
        "!pip install hdbscan"
      ]
    },
    {
      "cell_type": "code",
      "execution_count": 51,
      "metadata": {
        "colab": {
          "base_uri": "https://localhost:8080/"
        },
        "id": "4hg-2bnAE46O",
        "outputId": "d3ccddaf-0e90-4969-8750-4b64566014b8"
      },
      "outputs": [
        {
          "output_type": "execute_result",
          "data": {
            "text/plain": [
              "(5978, 384)"
            ]
          },
          "metadata": {},
          "execution_count": 51
        }
      ],
      "source": [
        "from sentence_transformers import SentenceTransformer\n",
        "\n",
        "# model = SentenceTransformer('bert-base-nli-mean-tokens')\n",
        "model = SentenceTransformer(\"paraphrase-multilingual-MiniLM-L12-v2\")\n",
        "\n",
        "# sentences = [i for i in names]\n",
        "sentence_embeddings = model.encode(titles)\n",
        "\n",
        "sentence_embeddings.shape\n"
      ]
    },
    {
      "cell_type": "code",
      "execution_count": 52,
      "metadata": {
        "id": "aFmwuS0bWNK-"
      },
      "outputs": [],
      "source": [
        "import umap\n",
        "umap_embeddings = umap.UMAP(n_neighbors=15, \n",
        "                            n_components=5, \n",
        "                            metric='cosine').fit_transform(sentence_embeddings)"
      ]
    },
    {
      "cell_type": "code",
      "execution_count": 53,
      "metadata": {
        "id": "WTs4nTruW0Ru"
      },
      "outputs": [],
      "source": [
        "import hdbscan\n",
        "cluster = hdbscan.HDBSCAN(min_cluster_size=15,min_samples=1,\n",
        "                          metric='euclidean',                      \n",
        "                          cluster_selection_method='eom').fit(umap_embeddings)"
      ]
    },
    {
      "cell_type": "markdown",
      "metadata": {
        "id": "WA7PMevVXdEZ"
      },
      "source": [
        "representation"
      ]
    },
    {
      "cell_type": "code",
      "execution_count": 54,
      "metadata": {
        "id": "RL_-jFnBXfP7"
      },
      "outputs": [],
      "source": [
        "df_all['cluster_id'] = cluster.labels_\n",
        "\n",
        "docs_per_topic = df_all.groupby(['cluster_id'], as_index = False).agg({'title': ' '.join})\n",
        "\n",
        "docs_df = df_all[['id','cluster_id','title','brand','price']]\n",
        "docs_df.head(20)"
      ]
    },
    {
      "cell_type": "code",
      "execution_count": null,
      "metadata": {
        "id": "CK0h6bRkaCNn"
      },
      "outputs": [],
      "source": [
        "docs_df[docs_df['cluster_id'] == 136]"
      ]
    },
    {
      "cell_type": "code",
      "execution_count": 60,
      "metadata": {
        "colab": {
          "base_uri": "https://localhost:8080/",
          "height": 363
        },
        "id": "GgVrK4CSYNem",
        "outputId": "d4dd6265-1645-43d0-a175-f9deb010ec74"
      },
      "outputs": [
        {
          "output_type": "execute_result",
          "data": {
            "text/plain": [
              "     cluster_id  Size\n",
              "0            -1   573\n",
              "152         151   162\n",
              "161         160    97\n",
              "35           34    91\n",
              "67           66    82\n",
              "141         140    68\n",
              "23           22    67\n",
              "58           57    64\n",
              "95           94    61\n",
              "137         136    56"
            ],
            "text/html": [
              "\n",
              "  <div id=\"df-2f71f096-2b38-4403-8af0-6af0d07143a9\">\n",
              "    <div class=\"colab-df-container\">\n",
              "      <div>\n",
              "<style scoped>\n",
              "    .dataframe tbody tr th:only-of-type {\n",
              "        vertical-align: middle;\n",
              "    }\n",
              "\n",
              "    .dataframe tbody tr th {\n",
              "        vertical-align: top;\n",
              "    }\n",
              "\n",
              "    .dataframe thead th {\n",
              "        text-align: right;\n",
              "    }\n",
              "</style>\n",
              "<table border=\"1\" class=\"dataframe\">\n",
              "  <thead>\n",
              "    <tr style=\"text-align: right;\">\n",
              "      <th></th>\n",
              "      <th>cluster_id</th>\n",
              "      <th>Size</th>\n",
              "    </tr>\n",
              "  </thead>\n",
              "  <tbody>\n",
              "    <tr>\n",
              "      <th>0</th>\n",
              "      <td>-1</td>\n",
              "      <td>573</td>\n",
              "    </tr>\n",
              "    <tr>\n",
              "      <th>152</th>\n",
              "      <td>151</td>\n",
              "      <td>162</td>\n",
              "    </tr>\n",
              "    <tr>\n",
              "      <th>161</th>\n",
              "      <td>160</td>\n",
              "      <td>97</td>\n",
              "    </tr>\n",
              "    <tr>\n",
              "      <th>35</th>\n",
              "      <td>34</td>\n",
              "      <td>91</td>\n",
              "    </tr>\n",
              "    <tr>\n",
              "      <th>67</th>\n",
              "      <td>66</td>\n",
              "      <td>82</td>\n",
              "    </tr>\n",
              "    <tr>\n",
              "      <th>141</th>\n",
              "      <td>140</td>\n",
              "      <td>68</td>\n",
              "    </tr>\n",
              "    <tr>\n",
              "      <th>23</th>\n",
              "      <td>22</td>\n",
              "      <td>67</td>\n",
              "    </tr>\n",
              "    <tr>\n",
              "      <th>58</th>\n",
              "      <td>57</td>\n",
              "      <td>64</td>\n",
              "    </tr>\n",
              "    <tr>\n",
              "      <th>95</th>\n",
              "      <td>94</td>\n",
              "      <td>61</td>\n",
              "    </tr>\n",
              "    <tr>\n",
              "      <th>137</th>\n",
              "      <td>136</td>\n",
              "      <td>56</td>\n",
              "    </tr>\n",
              "  </tbody>\n",
              "</table>\n",
              "</div>\n",
              "      <button class=\"colab-df-convert\" onclick=\"convertToInteractive('df-2f71f096-2b38-4403-8af0-6af0d07143a9')\"\n",
              "              title=\"Convert this dataframe to an interactive table.\"\n",
              "              style=\"display:none;\">\n",
              "        \n",
              "  <svg xmlns=\"http://www.w3.org/2000/svg\" height=\"24px\"viewBox=\"0 0 24 24\"\n",
              "       width=\"24px\">\n",
              "    <path d=\"M0 0h24v24H0V0z\" fill=\"none\"/>\n",
              "    <path d=\"M18.56 5.44l.94 2.06.94-2.06 2.06-.94-2.06-.94-.94-2.06-.94 2.06-2.06.94zm-11 1L8.5 8.5l.94-2.06 2.06-.94-2.06-.94L8.5 2.5l-.94 2.06-2.06.94zm10 10l.94 2.06.94-2.06 2.06-.94-2.06-.94-.94-2.06-.94 2.06-2.06.94z\"/><path d=\"M17.41 7.96l-1.37-1.37c-.4-.4-.92-.59-1.43-.59-.52 0-1.04.2-1.43.59L10.3 9.45l-7.72 7.72c-.78.78-.78 2.05 0 2.83L4 21.41c.39.39.9.59 1.41.59.51 0 1.02-.2 1.41-.59l7.78-7.78 2.81-2.81c.8-.78.8-2.07 0-2.86zM5.41 20L4 18.59l7.72-7.72 1.47 1.35L5.41 20z\"/>\n",
              "  </svg>\n",
              "      </button>\n",
              "      \n",
              "  <style>\n",
              "    .colab-df-container {\n",
              "      display:flex;\n",
              "      flex-wrap:wrap;\n",
              "      gap: 12px;\n",
              "    }\n",
              "\n",
              "    .colab-df-convert {\n",
              "      background-color: #E8F0FE;\n",
              "      border: none;\n",
              "      border-radius: 50%;\n",
              "      cursor: pointer;\n",
              "      display: none;\n",
              "      fill: #1967D2;\n",
              "      height: 32px;\n",
              "      padding: 0 0 0 0;\n",
              "      width: 32px;\n",
              "    }\n",
              "\n",
              "    .colab-df-convert:hover {\n",
              "      background-color: #E2EBFA;\n",
              "      box-shadow: 0px 1px 2px rgba(60, 64, 67, 0.3), 0px 1px 3px 1px rgba(60, 64, 67, 0.15);\n",
              "      fill: #174EA6;\n",
              "    }\n",
              "\n",
              "    [theme=dark] .colab-df-convert {\n",
              "      background-color: #3B4455;\n",
              "      fill: #D2E3FC;\n",
              "    }\n",
              "\n",
              "    [theme=dark] .colab-df-convert:hover {\n",
              "      background-color: #434B5C;\n",
              "      box-shadow: 0px 1px 3px 1px rgba(0, 0, 0, 0.15);\n",
              "      filter: drop-shadow(0px 1px 2px rgba(0, 0, 0, 0.3));\n",
              "      fill: #FFFFFF;\n",
              "    }\n",
              "  </style>\n",
              "\n",
              "      <script>\n",
              "        const buttonEl =\n",
              "          document.querySelector('#df-2f71f096-2b38-4403-8af0-6af0d07143a9 button.colab-df-convert');\n",
              "        buttonEl.style.display =\n",
              "          google.colab.kernel.accessAllowed ? 'block' : 'none';\n",
              "\n",
              "        async function convertToInteractive(key) {\n",
              "          const element = document.querySelector('#df-2f71f096-2b38-4403-8af0-6af0d07143a9');\n",
              "          const dataTable =\n",
              "            await google.colab.kernel.invokeFunction('convertToInteractive',\n",
              "                                                     [key], {});\n",
              "          if (!dataTable) return;\n",
              "\n",
              "          const docLinkHtml = 'Like what you see? Visit the ' +\n",
              "            '<a target=\"_blank\" href=https://colab.research.google.com/notebooks/data_table.ipynb>data table notebook</a>'\n",
              "            + ' to learn more about interactive tables.';\n",
              "          element.innerHTML = '';\n",
              "          dataTable['output_type'] = 'display_data';\n",
              "          await google.colab.output.renderOutput(dataTable, element);\n",
              "          const docLink = document.createElement('div');\n",
              "          docLink.innerHTML = docLinkHtml;\n",
              "          element.appendChild(docLink);\n",
              "        }\n",
              "      </script>\n",
              "    </div>\n",
              "  </div>\n",
              "  "
            ]
          },
          "metadata": {},
          "execution_count": 60
        }
      ],
      "source": [
        "def extract_topic_sizes(df):\n",
        "    topic_sizes = (df.groupby(['cluster_id'])\n",
        "                     .title\n",
        "                     .count()\n",
        "                     .reset_index()\n",
        "                     .rename({\"cluster_id\": \"cluster_id\", \"title\": \"Size\"}, axis='columns')\n",
        "                     .sort_values(\"Size\", ascending=False))\n",
        "    return topic_sizes\n",
        "\n",
        "topic_sizes = extract_topic_sizes(docs_df)\n",
        "topic_sizes.head(10)"
      ]
    },
    {
      "cell_type": "code",
      "source": [
        "sorted(docs_df['cluster_id'].unique())[-1]"
      ],
      "metadata": {
        "colab": {
          "base_uri": "https://localhost:8080/"
        },
        "id": "JdqXHNfbLGdh",
        "outputId": "b81d4395-255d-47a4-cf71-b48ec80a01c6"
      },
      "execution_count": 94,
      "outputs": [
        {
          "output_type": "execute_result",
          "data": {
            "text/plain": [
              "170"
            ]
          },
          "metadata": {},
          "execution_count": 94
        }
      ]
    },
    {
      "cell_type": "code",
      "source": [
        "def get_pairs_for_product(product, products, all_pairs):\n",
        "    products = products.drop(products[products['id'] == product['id']].index)\n",
        "    # необходимо со всеми товарами в кластере посчитать близость по title, price, (title + первые 5 слов description?)\n",
        "\n",
        "    # print(product['title'], product['price'])\n",
        "    \n",
        "    titles = products['title'].tolist()\n",
        "    # закодировать titles в sentence_embeddings\n",
        "    main_prod_embeddings = model.encode(product['title'])\n",
        "    row_prod_embeddings = model.encode(titles)\n",
        "\n",
        "    prices = products['price'].tolist()\n",
        "\n",
        "    similarities = cosine_similarity(\n",
        "        [main_prod_embeddings],\n",
        "        row_prod_embeddings \n",
        "    )\n",
        "    price_sim = [1 - abs(float(product['price']) - float(price))/max(float(product['price']),float(price)) for price in prices]\n",
        "\n",
        "    products['price_sim'] = price_sim\n",
        "    products['title_sim'] = similarities[0]\n",
        "    \n",
        "    # отсортировать сначала по title_sim, потом по price_dif\n",
        "    products = products.sort_values(by=['title_sim', 'price_sim'], ascending=False)\n",
        "    # print(products[:10])\n",
        "    pairs = []\n",
        "    # get top 2\n",
        "    top_prod = products.head(2)\n",
        "    pairs = collect_pairs(product, top_prod, pairs)\n",
        "\n",
        "    # get random from middle  1 (in 50% of all)\n",
        "    start = int(products.shape[0] * 0.25)\n",
        "    end =  int(products.shape[0] * 0.75)\n",
        "    middle_random_prod = products[start:end].sample(n=1)\n",
        "    pairs = collect_pairs(product, middle_random_prod, pairs)\n",
        "\n",
        "    # get lowest 2\n",
        "    lowest_prod = products.tail(2)\n",
        "    pairs = collect_pairs(product, lowest_prod, pairs)\n",
        "\n",
        "    # get random 2\n",
        "    random_prod = products.sample(n=2)\n",
        "    pairs = collect_pairs(product, random_prod, pairs)\n",
        "\n",
        "    df_pairs = pd.DataFrame(pairs)\n",
        "    # print(df_pairs)\n",
        "\n",
        "    all_pairs = pd.concat([all_pairs, df_pairs])\n",
        "    all_pairs = all_pairs.drop_duplicates()\n",
        "    return all_pairs"
      ],
      "metadata": {
        "id": "p2w407tLSL7H"
      },
      "execution_count": 84,
      "outputs": []
    },
    {
      "cell_type": "code",
      "source": [
        "def collect_pairs(product, df, pairs):\n",
        "    new_pairs = []\n",
        "    for idx,row in df.iterrows():\n",
        "        pair = {\n",
        "            'id_1': product['id'],\n",
        "            'title_1': product['title'],\n",
        "            'id_2': row['id'],\n",
        "            'title_2':row['title']\n",
        "        }\n",
        "        new_pairs.append(pair)\n",
        "    pairs.extend(new_pairs)\n",
        "    return pairs\n"
      ],
      "metadata": {
        "id": "MDU7nxl9g70m"
      },
      "execution_count": null,
      "outputs": []
    },
    {
      "cell_type": "code",
      "source": [
        "from sklearn.metrics.pairwise import cosine_similarity\n",
        "from tqdm import tqdm\n",
        "#171\n",
        "all_pairs = pd.DataFrame(columns = ['id_1','title_1','id_2','title_2'])\n",
        "for i in range(171):\n",
        "    print(f'category {i}')\n",
        "    products = docs_df[docs_df['cluster_id'] == i]\n",
        "    products_copy = products.copy()\n",
        "    if products.shape[0] < 6 or products.shape[0] > 150:\n",
        "        continue\n",
        "    n = 2 if products.shape[0] < 30 else 3 if products.shape[0] < 40 else 4 if products.shape[0] < 50 else 5\n",
        "    \n",
        "    count = 0\n",
        "    random_products = []\n",
        "    # print(sorted(products['title'].unique()))\n",
        "    n_unique_numbers = len(products['title'].unique())\n",
        "    if n > n_unique_numbers:\n",
        "        n = n_unique_numbers\n",
        "    print(n,'random products')\n",
        "    count = 0\n",
        "    while len(random_products) < n:\n",
        "        count += 1\n",
        "        product = products.sample(n = 1)\n",
        "        product = {\n",
        "            'id':product['id'].tolist()[0],\n",
        "            'title':product['title'].tolist()[0],\n",
        "            'brand':product['brand'].tolist()[0],\n",
        "            'price':product['price'].tolist()[0]\n",
        "        }\n",
        "        if len(random_products) == 0:\n",
        "            random_products.append(product)\n",
        "            count += 1\n",
        "            products = products.drop(products[products['id'] == product['id']].index)\n",
        "            continue\n",
        "        # print(product['title'],product['price'])\n",
        "        sim = 0\n",
        "        prev_prod_embeddings = model.encode(random_products[-1]['title'])\n",
        "        prod_embeddings = model.encode(product['title'])\n",
        "        sim = cosine_similarity([prev_prod_embeddings] ,[prod_embeddings])\n",
        "        # print(sim[0])\n",
        "        # print(random_products[-1]['title'],random_products[-1]['price'])\n",
        "        treshold = 0.95 if count < 10 else 0.97\n",
        "        if sim >= treshold:\n",
        "            # print(f'sim > 0.95')\n",
        "            sim = 1\n",
        "            continue\n",
        "\n",
        "        random_products.append(product)\n",
        "        products = products.drop(products[products['id'] == product['id']].index)\n",
        "        # break\n",
        "    # print([prod['title'] for prod in random_products])\n",
        "    for product in tqdm(random_products):\n",
        "        all_pairs = get_pairs_for_product(product, products, all_pairs)\n",
        "    # break\n",
        "        \n",
        "    \n",
        "        \n",
        "        "
      ],
      "metadata": {
        "id": "xiNQY1MmMMDX"
      },
      "execution_count": null,
      "outputs": []
    },
    {
      "cell_type": "code",
      "source": [
        "all_pairs.shape"
      ],
      "metadata": {
        "colab": {
          "base_uri": "https://localhost:8080/"
        },
        "id": "pz6QIxJCEp16",
        "outputId": "ca068290-5c28-423a-fcdc-b7cda9bff935"
      },
      "execution_count": 89,
      "outputs": [
        {
          "output_type": "execute_result",
          "data": {
            "text/plain": [
              "(3118, 4)"
            ]
          },
          "metadata": {},
          "execution_count": 89
        }
      ]
    },
    {
      "cell_type": "code",
      "source": [
        "all_pairs.to_csv('/content/drive/MyDrive/diploma/data/all_pairs_smartphones2.csv')"
      ],
      "metadata": {
        "id": "an5FUeuuIp9E"
      },
      "execution_count": 90,
      "outputs": []
    },
    {
      "cell_type": "code",
      "source": [
        "df_all.shape"
      ],
      "metadata": {
        "colab": {
          "base_uri": "https://localhost:8080/"
        },
        "id": "QyqWqem5XAnG",
        "outputId": "776bd949-9f77-4216-e1af-75e076edebac"
      },
      "execution_count": 74,
      "outputs": [
        {
          "output_type": "execute_result",
          "data": {
            "text/plain": [
              "(7523, 9)"
            ]
          },
          "metadata": {},
          "execution_count": 74
        }
      ]
    },
    {
      "cell_type": "code",
      "source": [
        "df_all.drop_duplicates(subset=['title','brand','price','description']).shape"
      ],
      "metadata": {
        "colab": {
          "base_uri": "https://localhost:8080/"
        },
        "id": "z8MgEzhkXCfu",
        "outputId": "8fe75d5c-ea79-4bbb-f85b-dd15f9141ae0"
      },
      "execution_count": 77,
      "outputs": [
        {
          "output_type": "execute_result",
          "data": {
            "text/plain": [
              "(5882, 9)"
            ]
          },
          "metadata": {},
          "execution_count": 77
        }
      ]
    },
    {
      "cell_type": "code",
      "source": [
        "all_pairs.tail(20)"
      ],
      "metadata": {
        "id": "TGyC_AtpDPIf"
      },
      "execution_count": null,
      "outputs": []
    }
  ],
  "metadata": {
    "colab": {
      "provenance": [],
      "collapsed_sections": [
        "VE_RtliEKHWy",
        "88vdkV11fvJH"
      ]
    },
    "kernelspec": {
      "display_name": "Python 3",
      "name": "python3"
    },
    "language_info": {
      "name": "python"
    }
  },
  "nbformat": 4,
  "nbformat_minor": 0
}